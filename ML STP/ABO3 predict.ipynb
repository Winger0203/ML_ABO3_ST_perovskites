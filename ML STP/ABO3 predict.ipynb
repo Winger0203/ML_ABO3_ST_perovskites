{
 "cells": [
  {
   "cell_type": "code",
   "execution_count": 1,
   "id": "6d98a45c",
   "metadata": {},
   "outputs": [],
   "source": [
    "import pandas as pd\n",
    "import numpy as np"
   ]
  },
  {
   "cell_type": "code",
   "execution_count": 2,
   "id": "2a73bece",
   "metadata": {},
   "outputs": [],
   "source": [
    "element_1 = ['Be', 'Mg', 'Ca', 'Sr', 'Ba', 'Mn', 'Fe', 'Co', 'Ni', 'Pd', 'Pt', 'Cu', 'Zn', 'Cd', 'Hg', 'Eu', 'Tm', 'Yb', 'V', 'Ti', 'Sm', 'Ag', 'Si', 'P', 'Sc', 'As', 'Y', 'Zr', 'Nb', 'Mo', 'Rh', 'In', 'Sb', 'Hf', 'Ta', 'W', 'Re', 'Au', 'Tl', 'Bi', 'Pb', 'Sn', 'Ge']\n",
    "element_2 = ['Si', 'Ge', 'Ti', 'Zr', 'Hf', 'Cr', 'Mn', 'Fe', 'Ta', 'Sb', 'Pb', 'Ni', 'V', 'Pd', 'Te', 'Re', 'Ho', 'In', 'Th', 'Co', 'Sn', 'Pu', 'Pt', 'Se', 'W', 'Tb', 'Nb']\n",
    "element_3 = ['O']"
   ]
  },
  {
   "cell_type": "code",
   "execution_count": 3,
   "id": "db0f5d47",
   "metadata": {},
   "outputs": [],
   "source": [
    "element = [[], [], [], []]"
   ]
  },
  {
   "cell_type": "code",
   "execution_count": 4,
   "id": "70309364",
   "metadata": {},
   "outputs": [],
   "source": [
    "for ele1 in element_1:\n",
    "     for ele2 in element_2:\n",
    "             for ele3 in element_3:\n",
    "                     ele = ele1 + ele2 + ele3\n",
    "                     element[0].append(ele)\n",
    "                     element[1].append(ele1)\n",
    "                     element[2].append(ele2)\n",
    "                     element[3].append(ele3)"
   ]
  },
  {
   "cell_type": "code",
   "execution_count": 5,
   "id": "424eb650",
   "metadata": {},
   "outputs": [],
   "source": [
    "Name = element[0]\n",
    "A = element[1]\n",
    "B = element[2]\n",
    "X = element[3]"
   ]
  },
  {
   "cell_type": "code",
   "execution_count": 6,
   "id": "0c58a08d",
   "metadata": {},
   "outputs": [],
   "source": [
    "dict1 = {'Name': Name, 'A': A, 'B': B, 'X': X}\n",
    "df = pd.DataFrame(dict1)\n",
    "df.to_csv(\"STP3.csv\")"
   ]
  },
  {
   "cell_type": "code",
   "execution_count": null,
   "id": "ecf694df",
   "metadata": {},
   "outputs": [],
   "source": []
  }
 ],
 "metadata": {
  "kernelspec": {
   "display_name": "Python [conda env:py36]",
   "language": "python",
   "name": "conda-env-py36-py"
  },
  "language_info": {
   "codemirror_mode": {
    "name": "ipython",
    "version": 3
   },
   "file_extension": ".py",
   "mimetype": "text/x-python",
   "name": "python",
   "nbconvert_exporter": "python",
   "pygments_lexer": "ipython3",
   "version": "3.6.15"
  }
 },
 "nbformat": 4,
 "nbformat_minor": 5
}
