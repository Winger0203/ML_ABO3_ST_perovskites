{
 "cells": [
  {
   "cell_type": "code",
   "execution_count": 23,
   "id": "972da462",
   "metadata": {},
   "outputs": [],
   "source": [
    "import pandas as pd\n",
    "import numpy as np"
   ]
  },
  {
   "cell_type": "code",
   "execution_count": 24,
   "id": "bc142785",
   "metadata": {},
   "outputs": [],
   "source": [
    "element_1 = ['Li', 'Na', 'K', 'Rb', 'Cs']\n",
    "element_2 = ['Be', 'Mg', 'Ca', 'Sr', 'Ba', 'Mn', 'Fe', 'Co', 'Ni', 'Pd', 'Pt', 'Cu', 'Zn', 'Cd', 'Hg', 'Eu', 'Tm', 'Yb', 'V', 'Ti', 'Sm', 'Ag', 'Si', 'P', 'Sc', 'As', 'Y', 'Zr', 'Nb', 'Mo', 'Rh', 'In', 'Sb', 'Hf', 'Ta', 'W', 'Re', 'Au', 'Tl', 'Bi', 'Pb', 'Sn', 'Ge']\n",
    "element_3 = ['F', 'Cl', 'Br', 'I']"
   ]
  },
  {
   "cell_type": "code",
   "execution_count": 25,
   "id": "0d76fdea",
   "metadata": {},
   "outputs": [],
   "source": [
    "element = [[], [], [], []]"
   ]
  },
  {
   "cell_type": "code",
   "execution_count": 26,
   "id": "026730dd",
   "metadata": {},
   "outputs": [],
   "source": [
    "for ele1 in element_1:\n",
    "     for ele2 in element_2:\n",
    "             for ele3 in element_3:\n",
    "                     ele = ele1 + ele2 + ele3\n",
    "                     element[0].append(ele)\n",
    "                     element[1].append(ele1)\n",
    "                     element[2].append(ele2)\n",
    "                     element[3].append(ele3)"
   ]
  },
  {
   "cell_type": "code",
   "execution_count": 27,
   "id": "47944f64",
   "metadata": {},
   "outputs": [],
   "source": [
    "Name = element[0]\n",
    "A = element[1]\n",
    "B = element[2]\n",
    "X = element[3]"
   ]
  },
  {
   "cell_type": "code",
   "execution_count": 29,
   "id": "0ad12eb9",
   "metadata": {},
   "outputs": [],
   "source": [
    "dict1 = {'Name': Name, 'A': A, 'B': B, 'X': X}\n",
    "df = pd.DataFrame(dict1)\n",
    "df.to_csv(\"STP.csv\")"
   ]
  }
 ],
 "metadata": {
  "kernelspec": {
   "display_name": "Python [conda env:py36]",
   "language": "python",
   "name": "conda-env-py36-py"
  },
  "language_info": {
   "codemirror_mode": {
    "name": "ipython",
    "version": 3
   },
   "file_extension": ".py",
   "mimetype": "text/x-python",
   "name": "python",
   "nbconvert_exporter": "python",
   "pygments_lexer": "ipython3",
   "version": "3.6.15"
  }
 },
 "nbformat": 4,
 "nbformat_minor": 5
}
